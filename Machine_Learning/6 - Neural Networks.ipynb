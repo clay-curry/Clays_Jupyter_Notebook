{
 "cells": [
  {
   "cell_type": "markdown",
   "id": "f06df09b-c684-4236-8cb0-605351d28577",
   "metadata": {},
   "source": [
    "# Neural Networks\n",
    "\n",
    "The motivation and structure of a <b>Neural Network</b> is completeley identical to the linear model--with one exception, unfixed basis elements."
   ]
  },
  {
   "cell_type": "markdown",
   "id": "41faec20-f5db-4ef0-a8bc-cc90429fb9b2",
   "metadata": {},
   "source": [
    "## The Artificial Neuron\n",
    "Each <b>artificial neuron</b> (AN) <b>implements a nonlinear mapping</b> from $\\mathbb{R}^I$ usually to [0, 1] or [−1, 1], depending on the activation function used. That is,\n",
    "\n",
    "$$\n",
    "f_{AN} : \\mathbb{R}^I \\to [0,1]\n",
    "$$\n",
    "\n",
    "or\n",
    "\n",
    "$$\n",
    "f_{AN} : \\mathbb{R}^I \\to [-1, 1]\n",
    "$$\n",
    "\n",
    "where $I$ is the number of input signals to the AN. That is,\n",
    "\n",
    "$$\n",
    "\\mathbf{z} = (z_1, z_2, \\ldots, z_I) \n",
    "$$\n",
    "either from the environment or from other ANs.\n",
    "\n",
    "Each AN has 2 components: a <b>net input signal</b>, and an <b>output signal</b>."
   ]
  },
  {
   "cell_type": "markdown",
   "id": "81c5fcba-7fb4-4cf4-b2f7-f0965d367a5f",
   "metadata": {},
   "source": [
    "### Components\n",
    "\n",
    "An AN is called a <b>summation unit</b> (SU) when the net input is given by a weighted sum of all inputs signals, that is,\n",
    "\n",
    "$$\n",
    "net = \\sum_{j=1}^{I} w_j z_j\n",
    "$$\n",
    "\n",
    "Most ANs are summation units. An alternative type of AN is called a <b>product unit</b> (PU) because its net input is calculated as,\n",
    "    \n",
    "$$\n",
    "net = \\prod_{j = 1}^{I} z_j^{w_j}\n",
    "$$\n",
    "\n",
    "Product units allow higher-order combinations of inputs, having the advantage of\n",
    "increased information capacity."
   ]
  },
  {
   "cell_type": "code",
   "execution_count": null,
   "id": "7d81f8d5-3dfb-4cb5-91cc-0c6f01dd50e8",
   "metadata": {},
   "outputs": [],
   "source": []
  }
 ],
 "metadata": {
  "kernelspec": {
   "display_name": "Python 3 (ipykernel)",
   "language": "python",
   "name": "python3"
  },
  "language_info": {
   "codemirror_mode": {
    "name": "ipython",
    "version": 3
   },
   "file_extension": ".py",
   "mimetype": "text/x-python",
   "name": "python",
   "nbconvert_exporter": "python",
   "pygments_lexer": "ipython3",
   "version": "3.9.7"
  }
 },
 "nbformat": 4,
 "nbformat_minor": 5
}
