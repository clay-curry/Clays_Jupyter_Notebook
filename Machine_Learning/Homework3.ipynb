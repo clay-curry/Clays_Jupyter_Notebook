{
 "cells": [
  {
   "cell_type": "markdown",
   "id": "49851d22",
   "metadata": {},
   "source": [
    "# Homework 3 - Evolutionary Computation Fundamentals\n",
    "\n",
    "## Readings\n",
    "```\n",
    "In natual evolution, the fitness of an individual is defined by its reproductive success (number of offspring). In artificial evolution, the fitness of an individual is a function that measures how well that individual solves a predefined problem.\n",
    "\n",
    "- F&M, Bio-Inspired Artificial Intelligence\n",
    "```\n",
    "\n",
    "## Motivation\n",
    "Mutation is one of the two primary mechanisms through which evolutionary computation (EC) explores search spaces. (The other is crossover.) Mutation works by introducing into the population allele variants that might not already be present. Mutation can be used for local search, global search, or both. How these processes work individually and together to explore a search space should be understood in order to use them effectively in EC systems.\n",
    "\n",
    "The goal of this assignment is to give you experience with a **mutation-only EC system** for either local or global search, or both.\n",
    "\n"
   ]
  },
  {
   "cell_type": "markdown",
   "id": "18058e7d",
   "metadata": {},
   "source": [
    "\n",
    "## Assignment\n",
    "Assume that you have a two-dimensional search space of real values ranging from −100.0 to +100.0. This will be explored using a generational EC system with a population of 100 individuals, each with a single chromosome consisting of two genes, one for each dimension of the search space, where each gene is a single floating point value. In the initial population P(0), each allele of each individual is randomly initialized from a uniform distribution over the entire allowable range. In each subsequent generation, each population member is selected once for reproduction.\n",
    "\n",
    "This basic setup will be explored with three variants — local search only, global search only, and local and global search together. You must use the same initial population for each variant. In all variants, the population reproduces using only cloning (that is, with no crossover) and all variation from generation to generation comes from mutation.\n",
    "\n"
   ]
  },
  {
   "cell_type": "markdown",
   "id": "aae82414",
   "metadata": {},
   "source": [
    "### Part One -- Local Search Only\n",
    "Determine and implement an appropriate mutation mechanism for local search (e.g., additive, replacing) incuding distribution type and parameters for searching primarily in the neighborhood of the parent individual. (I'll leave it to you to determine what it means to be \"primarily in the neighborhood of the parent individual,\" but you should aim to demonstrate much different exploratory behavior for local and global search.)\n",
    "\n",
    "Complete the following exercises:\n",
    "1. Describe the mutation mechanism and parameters chosen.\n",
    "2. Plot the cumulative search space explored at the following generations:\n",
    "   - P(0)\n",
    "   - P(1)\n",
    "   - P(10)\n",
    "   - P(100)\n",
    "   - P(1000)\n",
    "3. Describe the change in the distribution over generations.\n",
    "\n"
   ]
  },
  {
   "cell_type": "markdown",
   "id": "41c9f816",
   "metadata": {},
   "source": [
    "### Part Two -- Global Search Only\n",
    "Determine and implement an appropriate mutation mechanism for global search (e.g., additive, replacing) incuding distribution type and parameters for searching throughout the whole search space. (Again, you should aim to demonstrate much different exploratory behavior for local and global search.)\n",
    "\n",
    "Complete the following exercises:\n",
    "Complete the following exercises:\n",
    "1. Describe the mutation mechanism and parameters chosen.\n",
    "2. Plot the cumulative search space explored at the following generations:\n",
    "   - P(0)\n",
    "   - P(1)\n",
    "   - P(10)\n",
    "   - P(100)\n",
    "   - P(1000)\n",
    "3. Describe the change in the distribution over generations.\n",
    "\n"
   ]
  },
  {
   "cell_type": "markdown",
   "id": "0f7797ff",
   "metadata": {},
   "source": [
    "### Part Three — Local and Global Search\n",
    "On a single population, use both the local and global search mechanisms that you previously implemented.\n",
    "\n",
    "Complete the following exercises:\n",
    "1. Plot the cumulative search space explored at the following generations:\n",
    "   - P(0)\n",
    "   - P(1)\n",
    "   - P(10)\n",
    "   - P(100)\n",
    "   - P(1000)\n",
    "2. Describe the change in the distribution over generations."
   ]
  }
 ],
 "metadata": {
  "kernelspec": {
   "display_name": "Python 3 (ipykernel)",
   "language": "python",
   "name": "python3"
  },
  "language_info": {
   "codemirror_mode": {
    "name": "ipython",
    "version": 3
   },
   "file_extension": ".py",
   "mimetype": "text/x-python",
   "name": "python",
   "nbconvert_exporter": "python",
   "pygments_lexer": "ipython3",
   "version": "3.8.13"
  }
 },
 "nbformat": 4,
 "nbformat_minor": 5
}
