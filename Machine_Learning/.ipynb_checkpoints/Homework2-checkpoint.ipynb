{
 "cells": [
  {
   "cell_type": "code",
   "execution_count": 18,
   "id": "3c7e9d71-4dde-4242-886e-4c04483a931e",
   "metadata": {
    "tags": []
   },
   "outputs": [],
   "source": [
    "%matplotlib inline\n",
    "import matplotlib\n",
    "from mpl_toolkits import mplot3d\n",
    "matplotlib.rcParams['figure.figsize'] = [10, 5]\n",
    "\n",
    "# creates a figure with 10 (width) x 5 (height) inches\n",
    "def plot_2D(f, line: str):\n",
    "    X = np.linspace(-5, 5, 30)\n",
    "    Y = f1(X)\n",
    "    fig, ax = plt.subplots()\n",
    "    ax.plot(X, Y, line)\n",
    "    ax.set_xlabel('x')\n",
    "    ax.set_ylabel('y')\n",
    "    plt.show()\n",
    "\n",
    "\n",
    "# Data for a three-dimensional line\n",
    "def plot_3D(f):\n",
    "    x = np.linspace(-5, 5, 30)\n",
    "    y = np.linspace(-5, 5, 30)\n",
    "\n",
    "    X, Y = np.meshgrid(x, y)\n",
    "    Z = f2(X, Y)\n",
    "    \n",
    "    fig = plt.figure()\n",
    "    ax = plt.axes(projection='3d')\n",
    "    ax.contour3D(X, Y, Z, 50, cmap='binary')\n",
    "    ax.set_xlabel('x')\n",
    "    ax.set_ylabel('y')\n",
    "    ax.set_zlabel('z');\n"
   ]
  },
  {
   "cell_type": "markdown",
   "id": "6ac059f1-10dd-4d43-9f27-0e414acacdb3",
   "metadata": {},
   "source": [
    "# Neural Networks Programming Assignment 1\n",
    "\n",
    "### Goal:\n",
    "Design a simple network for learning the following functions\n"
   ]
  },
  {
   "cell_type": "code",
   "execution_count": 2,
   "id": "8929b884-bcaf-454f-837c-80c10e3f03a8",
   "metadata": {},
   "outputs": [
    {
     "ename": "ModuleNotFoundError",
     "evalue": "No module named 'matplotlib'",
     "output_type": "error",
     "traceback": [
      "\u001b[0;31m---------------------------------------------------------------------------\u001b[0m",
      "\u001b[0;31mModuleNotFoundError\u001b[0m                       Traceback (most recent call last)",
      "Input \u001b[0;32mIn [2]\u001b[0m, in \u001b[0;36m<module>\u001b[0;34m\u001b[0m\n\u001b[0;32m----> 1\u001b[0m \u001b[38;5;28;01mimport\u001b[39;00m \u001b[38;5;21;01mmatplotlib\u001b[39;00m\u001b[38;5;21;01m.\u001b[39;00m\u001b[38;5;21;01mpyplot\u001b[39;00m \u001b[38;5;28;01mas\u001b[39;00m \u001b[38;5;21;01mplt\u001b[39;00m\n\u001b[1;32m      2\u001b[0m \u001b[38;5;28;01mimport\u001b[39;00m \u001b[38;5;21;01mnumpy\u001b[39;00m \u001b[38;5;28;01mas\u001b[39;00m \u001b[38;5;21;01mnp\u001b[39;00m\n\u001b[1;32m      4\u001b[0m \u001b[38;5;28;01mdef\u001b[39;00m \u001b[38;5;21mf1\u001b[39m(x): \u001b[38;5;28;01mreturn\u001b[39;00m (x\u001b[38;5;241m*\u001b[39m\u001b[38;5;241m*\u001b[39m\u001b[38;5;241m4\u001b[39m \u001b[38;5;241m-\u001b[39m \u001b[38;5;241m22\u001b[39m\u001b[38;5;241m*\u001b[39mx\u001b[38;5;241m*\u001b[39m\u001b[38;5;241m*\u001b[39m\u001b[38;5;241m2\u001b[39m)\n",
      "\u001b[0;31mModuleNotFoundError\u001b[0m: No module named 'matplotlib'"
     ]
    }
   ],
   "source": [
    "import matplotlib.pyplot as plt\n",
    "import numpy as np\n",
    "\n",
    "def f1(x): return (x**4 - 22*x**2)\n",
    "def f2(x, y): return ( x**4 - 22*x**2 - y**4 + 22*y**2)\n"
   ]
  },
  {
   "cell_type": "markdown",
   "id": "c2a8c897-08ac-45be-9fea-1f6bfadf8a1c",
   "metadata": {},
   "source": [
    "2 List the choices that need to be made when designing an ANN learning system that have already been made for you in this assignment.\n",
    "* determine an objective function $f$\n",
    "* decide how many inputs $N$ are associated with $f$ ($N=2$)\n",
    "* determin on what interval the objective function is valid \n",
    "* select an optimization/learning approach/learning rule for adjusting weights during training"
   ]
  },
  {
   "cell_type": "markdown",
   "id": "f98bb730-77eb-402f-ac87-2bc7fb25f875",
   "metadata": {},
   "source": [
    "\n",
    "3 For each of these choices, list which option professor chooses in making this assignment.\n",
    "* we have two objective functions $f_1(x) = x^4 - 22x^2$ and $f_2(x,y) = x^4 - 22x^2 - y^4 + 22y^2$)\n",
    "* decide how many inputs $N$ are associated with the target ($N = 2$)\n",
    "* the first objective function is defined on $[-5, 5]$, and the second objective function is defined on $[-5, 5]^2$\n",
    "* decide a particular optimization/learning approach/learning rule (supervised learning via error backpropagation)\n"
   ]
  },
  {
   "cell_type": "markdown",
   "id": "e46038e9-6ffb-4764-a238-5c720cf7fc26",
   "metadata": {},
   "source": [
    "4 List the choices you need to make regarding the design of your ANN\n",
    "* for a signal-plus-noise model $Z = f(X, Y) + \\epsilon$, decide what assumptions can be made, if any, about the noise and outliers\n",
    "* define a loss function $L$ penalizing deviations from $f$\n",
    "* decide a learning rate to initialize $\\eta$\n",
    "* decide how many layers hidden layers $H$ are necessary to capture features\n",
    "* decide how many hidden units $H_n$ are required for the $n$'th hidden layer\n",
    "* decide if artificial neurons will consist of summation units or product units or a mixture\n",
    "* determine how prior weights and biases between AN will be initialized\n",
    "* use domain knowledge to select non-linear activation functions that also work as desired with the training method\n",
    "* decide an appropriate number of samples to be used for training, validation, and test sets\n",
    "* decide how epochs should be organized and how many to execute before training stops\n",
    "* decide any other indications of overfitting that suggests training should stop"
   ]
  },
  {
   "cell_type": "markdown",
   "id": "072339d2-2931-4e8d-85af-350bb0cb812e",
   "metadata": {},
   "source": [
    "5 Choose an option that seems reasonable to you for each of these design choices and explain why it seems reasonable to you.\n",
    "\n",
    "* because no prior information is known about the system, we follow the principle of maximum entropy and assume that the noise is Gaussian $\\epsilon \\sim^{iid} \\mathcal{N}(\\mu = 0, \\sigma = c)$, since the family of exponential distributions are easy to work with using Baye's theorem.\n",
    "* for a signal-plus-noise model $Z = f(X, Y) + \\epsilon$, this project will compare two loss functions for approximating $f_1$ and $f_2$:\n",
    "    - $L_1(\\hat f) = \\sum \\{Z - \\hat f(x,y)\\}^2$ for penalizing large values \n",
    "    - $L_2(\\hat f) = \\sum \\{Z - \\hat f(x,y)\\}^2$ because we expect a large variance\n",
    "* let $\\eta = 0.01$\n",
    "* we will create a network with $H = 2$ hidden layers for not much rhyme or reason\n",
    "* we will use $h_1 = h_2 = 4$ for not much rhyme or reason\n",
    "* artificial neurons will be summation units because this is what I am most familiar with (I am not sure why this is preferred over product units)\n",
    "* prior weights will be assigned randomly because I have no prior knowledge about how weights can approximate the objective function. all biases $b$ will be initialized to 1, since $b \\ne 0$ allows the backpropogation algorithm to adjust biases for a value that optimizes the given objective function\n",
    "* the ReLU function will be used for its easy differentiability (required for backprop) and because any linear combination of ReLU functions will result in piecewise linear outputs, and this will make it easier to graphically visualize weights\n",
    "* we can compare stochastic gradient descent and batch gradient descent applied to $n = 100$ runs over the training data with replacement\n",
    "* random (uniformly distributed) samples will be drawin in the following quantities: \n",
    " - 50 samples for training (this is randomly chosen by me), \n",
    " - 25 samples for validation (again, random)\n",
    "* a test set will be generated for performing Riemann sum numerical integration for comparing these stochastic gradient decsent with online learning\n",
    " - 500 samples (this will be used for essentially)\n"
   ]
  },
  {
   "cell_type": "markdown",
   "id": "9d12b415-8d86-412c-9ac0-27b59e6d1e26",
   "metadata": {},
   "source": [
    "## ANN Implementation\n",
    "### $f_1(x) = x^4 - 22x^2$"
   ]
  },
  {
   "cell_type": "code",
   "execution_count": null,
   "id": "7f35c5c0-7a6a-488f-9c55-545deeb83bf4",
   "metadata": {},
   "outputs": [],
   "source": [
    "training_set = np.random.rand(50)\n",
    "validate_set = np.random.rand(25)\n",
    "test_set = np."
   ]
  },
  {
   "cell_type": "markdown",
   "id": "330ff62b-9251-4c89-8ab6-601c432f95de",
   "metadata": {},
   "source": [
    "###  $f_2(x,y) = x^4 - 22x^2 - y^4 + 22y^2$)"
   ]
  },
  {
   "cell_type": "code",
   "execution_count": 1,
   "id": "48d71c92-872e-4da4-ad4c-0bf902c9ba9f",
   "metadata": {},
   "outputs": [
    {
     "ename": "NameError",
     "evalue": "name 'np' is not defined",
     "output_type": "error",
     "traceback": [
      "\u001b[0;31m---------------------------------------------------------------------------\u001b[0m",
      "\u001b[0;31mNameError\u001b[0m                                 Traceback (most recent call last)",
      "Input \u001b[0;32mIn [1]\u001b[0m, in \u001b[0;36m<module>\u001b[0;34m\u001b[0m\n\u001b[0;32m----> 1\u001b[0m x \u001b[38;5;241m=\u001b[39m \u001b[43mnp\u001b[49m\u001b[38;5;241m.\u001b[39mlinspace(\u001b[38;5;241m-\u001b[39m\u001b[38;5;241m5\u001b[39m, \u001b[38;5;241m5\u001b[39m, \u001b[38;5;241m30\u001b[39m)\n\u001b[1;32m      2\u001b[0m y \u001b[38;5;241m=\u001b[39m np\u001b[38;5;241m.\u001b[39mlinspace(\u001b[38;5;241m-\u001b[39m\u001b[38;5;241m5\u001b[39m, \u001b[38;5;241m5\u001b[39m, \u001b[38;5;241m30\u001b[39m)\n\u001b[1;32m      4\u001b[0m (X, Y) \u001b[38;5;241m=\u001b[39m np\u001b[38;5;241m.\u001b[39mmeshgrid(x, y)\n",
      "\u001b[0;31mNameError\u001b[0m: name 'np' is not defined"
     ]
    }
   ],
   "source": [
    "x = np.linspace(-5, 5, 30)\n",
    "y = np.linspace(-5, 5, 30)\n",
    "\n",
    "(X, Y) = np.meshgrid(x, y)\n"
   ]
  },
  {
   "cell_type": "code",
   "execution_count": null,
   "id": "89a1c1f6-9a80-486b-8d71-04d6119358cc",
   "metadata": {},
   "outputs": [],
   "source": []
  }
 ],
 "metadata": {
  "kernelspec": {
   "display_name": "Python 3 (ipykernel)",
   "language": "python",
   "name": "python3"
  },
  "language_info": {
   "codemirror_mode": {
    "name": "ipython",
    "version": 3
   },
   "file_extension": ".py",
   "mimetype": "text/x-python",
   "name": "python",
   "nbconvert_exporter": "python",
   "pygments_lexer": "ipython3",
   "version": "3.8.9"
  }
 },
 "nbformat": 4,
 "nbformat_minor": 5
}
