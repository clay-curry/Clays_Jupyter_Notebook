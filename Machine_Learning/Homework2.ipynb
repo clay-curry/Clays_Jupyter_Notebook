{
 "cells": [
  {
   "cell_type": "code",
   "execution_count": 18,
   "id": "3c7e9d71-4dde-4242-886e-4c04483a931e",
   "metadata": {
    "tags": []
   },
   "outputs": [],
   "source": [
    "%matplotlib inline\n",
    "import matplotlib\n",
    "from mpl_toolkits import mplot3d\n",
    "matplotlib.rcParams['figure.figsize'] = [10, 5]\n",
    "\n",
    "# creates a figure with 10 (width) x 5 (height) inches\n",
    "def plot_2D(f, line: str):\n",
    "    X = np.linspace(-5, 5, 30)\n",
    "    Y = f1(X)\n",
    "    fig, ax = plt.subplots()\n",
    "    ax.plot(X, Y, line)\n",
    "    ax.set_xlabel('x')\n",
    "    ax.set_ylabel('y')\n",
    "    plt.show()\n",
    "\n",
    "\n",
    "# Data for a three-dimensional line\n",
    "def plot_3D(f):\n",
    "    x = np.linspace(-5, 5, 30)\n",
    "    y = np.linspace(-5, 5, 30)\n",
    "\n",
    "    X, Y = np.meshgrid(x, y)\n",
    "    Z = f2(X, Y)\n",
    "    \n",
    "    fig = plt.figure()\n",
    "    ax = plt.axes(projection='3d')\n",
    "    ax.contour3D(X, Y, Z, 50, cmap='binary')\n",
    "    ax.set_xlabel('x')\n",
    "    ax.set_ylabel('y')\n",
    "    ax.set_zlabel('z');\n"
   ]
  },
  {
   "cell_type": "markdown",
   "id": "6ac059f1-10dd-4d43-9f27-0e414acacdb3",
   "metadata": {},
   "source": [
    "# Neural Networks Programming Assignment 1\n",
    "\n",
    "### Goal:\n",
    "Design a simple network for learning the following functions\n"
   ]
  },
  {
   "cell_type": "code",
   "execution_count": 21,
   "id": "8929b884-bcaf-454f-837c-80c10e3f03a8",
   "metadata": {},
   "outputs": [],
   "source": [
    "import matplotlib.pyplot as plt\n",
    "import numpy as np\n",
    "\n",
    "def f1(x): return (x**4 - 22*x**2)\n",
    "def f2(x, y): return ( x**4 - 22*x**2 - y**4 + 22*y**2)\n"
   ]
  },
  {
   "cell_type": "markdown",
   "id": "c2a8c897-08ac-45be-9fea-1f6bfadf8a1c",
   "metadata": {},
   "source": [
    "2 List the choices that need to be made when designing an ANN learning system that have already been made for you in this assignment.\n",
    "* define an objective function $f$\n",
    "* decide an appropriate loss function $L$\n",
    "* decide how many inputs $N$ are associated with the target ($N=2$)\n",
    "* for a signal-plus-noise model $Z = f(X, Y) + \\epsilon$, decide what assumptions can be made, if any, about the noise\n",
    "* decide an appropriate non-linear activation function to used in the outputs of artificial neurons\n",
    "* decide if artificial neurons will consist of summation units or product units or a mixture\n",
    "* decide an appropriate set of initializations of prior weights or simply assign random weights between aritificial neurons\n",
    "* decide an appropriate initializaion of bias to be included in the input of each AN\n",
    "* decide a particular optimization/learning approach/learning rule for adjusting weights during training\n",
    "* decide an appropriate number of samples to be used for training, validation, and test sets\n",
    "* decide the maximum number of epochs to be executed before training cutoff\n",
    "* decide any other indicators for training cutoff\n",
    "* decide what kind of processing should occur in each epoch"
   ]
  },
  {
   "cell_type": "markdown",
   "id": "f98bb730-77eb-402f-ac87-2bc7fb25f875",
   "metadata": {},
   "source": [
    "\n",
    "3 For each of these choices, list which option professor chooses in making this assignment.\n",
    "* decide an objective function (the given polynomials)\n",
    "* decide how many inputs $N$ are associated with the target ($N = 2$)\n",
    "* decide a particular optimization/learning approach/learning rule (supervised learning via error backpropagation)\n"
   ]
  },
  {
   "cell_type": "markdown",
   "id": "e46038e9-6ffb-4764-a238-5c720cf7fc26",
   "metadata": {},
   "source": [
    "4 List the choices you need to make regarding the design of your ANN\n",
    "* for a signal-plus-noise model $Z = f(X, Y) + \\epsilon$, decide what assumptions can be made, if any, about the noise\n",
    "* decide an appropriate non-linear activation function to used in the outputs of artificial neurons\n",
    "* decide if artificial neurons will consist of summation units or product units or a mixture\n",
    "* decide an appropriate set of initializations of prior weights or simply assign random weights between aritificial neurons\n",
    "* decide an appropriate initializaion of bias to be included in the input of each AN\n",
    "* decide a particular optimization/learning approach/learning rule for adjusting weights during training (supervised learning with backpropogation)\n",
    "* decide an appropriate number of samples to be used for training, validation, and test sets\n",
    "* decide the maximum number of epochs to be executed before training cutoff\n",
    "* decide any other indicators for training cutoff\n",
    "* decide what kind of processing should occur in each epoch"
   ]
  },
  {
   "cell_type": "markdown",
   "id": "072339d2-2931-4e8d-85af-350bb0cb812e",
   "metadata": {},
   "source": [
    "5 Choose an option that seems reasonable to you for each of these design choices and explain why it seems reasonable to you.\n",
    "\n",
    "* because no prior informaiton is known about the system, we follow the principle of maximum entropy and assume that the noise $\\epsilon \\sim^{iid} \\mathcal{N}(\\mu = 0, \\sigma = c)$, which is the maximum entropy probability distribution for the family of exponential distributions\n",
    "* the ReLU function will be used for its differentiability (required for backprop) and because any linear combination of ReLU functions will result in piecewise linear outputs, and this will make it easier to graphically visualize weights\n",
    "* artificial neurons will be summation units because this is what I am most familiar with (I am not sure why this is preferred over product units)\n",
    "* prior weights will be assigned randomly because I have no prior knowledge about how weights can approximate the objective function\n",
    "* all biases $b$ will be assumed to be 1. By initializing $b \\ne 0$, the backpropogation algorithm can adjust each bias to a value that optimizes the given objective function\n",
    "* $L(\\hat f) = \\sum \\{Z - f(x,y)\\}^2$ and this was chosen because it is sens\n",
    "* decide an appropriate number of samples to be used for training, validation, and test sets\n",
    "* decide the maximum number of epochs to be executed before training cutoff\n",
    "* decide any other indicators for training cutoff\n",
    "* decide what kind of data processing should occur in each epoch"
   ]
  },
  {
   "cell_type": "code",
   "execution_count": 22,
   "id": "f8004994-7511-43c4-8998-c363ad09ce72",
   "metadata": {},
   "outputs": [
    {
     "data": {
      "text/plain": [
       "\"\\nfig = plt.figure()\\nax = plt.axes(projection='3d')\\nax.contour3D(X, Y, Z, 50, cmap='binary')\\nax.set_xlabel('x')\\nax.set_ylabel('y')\\nax.set_zlabel('z');\\n\""
      ]
     },
     "execution_count": 22,
     "metadata": {},
     "output_type": "execute_result"
    }
   ],
   "source": [
    "\"\"\"\n",
    "fig = plt.figure()\n",
    "ax = plt.axes(projection='3d')\n",
    "ax.contour3D(X, Y, Z, 50, cmap='binary')\n",
    "ax.set_xlabel('x')\n",
    "ax.set_ylabel('y')\n",
    "ax.set_zlabel('z');\n",
    "\"\"\""
   ]
  },
  {
   "cell_type": "code",
   "execution_count": 24,
   "id": "183fdaf7-f900-473c-9e3f-3bda62ec78f4",
   "metadata": {},
   "outputs": [
    {
     "data": {
      "text/plain": [
       "'\\nax.view_init(35, 25)\\nfig\\n'"
      ]
     },
     "execution_count": 24,
     "metadata": {},
     "output_type": "execute_result"
    }
   ],
   "source": [
    "\"\"\"\n",
    "ax.view_init(35, 25)\n",
    "fig\n",
    "\"\"\""
   ]
  },
  {
   "cell_type": "code",
   "execution_count": null,
   "id": "7f35c5c0-7a6a-488f-9c55-545deeb83bf4",
   "metadata": {},
   "outputs": [],
   "source": []
  }
 ],
 "metadata": {
  "kernelspec": {
   "display_name": "Python 3 (ipykernel)",
   "language": "python",
   "name": "python3"
  },
  "language_info": {
   "codemirror_mode": {
    "name": "ipython",
    "version": 3
   },
   "file_extension": ".py",
   "mimetype": "text/x-python",
   "name": "python",
   "nbconvert_exporter": "python",
   "pygments_lexer": "ipython3",
   "version": "3.9.7"
  }
 },
 "nbformat": 4,
 "nbformat_minor": 5
}
