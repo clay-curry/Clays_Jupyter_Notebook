{
 "cells": [
  {
   "cell_type": "markdown",
   "id": "94dcc31d-4f70-434b-acfe-3e687928d618",
   "metadata": {
    "tags": []
   },
   "source": [
    "# Minimization Problems"
   ]
  },
  {
   "cell_type": "markdown",
   "id": "dddea8a8-baf8-4d6e-81a5-fe606200438c",
   "metadata": {},
   "source": [
    "The following problem often arises: given a subspace $U \\subsetneq V$ of a vector space $V$ and a point $u$ that is outside of $U$, find the closest point $cv \\in U$ to the point $u \\not \\in U$. In other words, find the number $c$ that scales $v \\in U$ where the value of $||u-cv||$ is as small as possible. In the mathematical literature, the name this point the **orthogonal projection of u onto U**. The following illustration distills the essence of this problem:\n",
    "\n",
    "<center><img src=\"files/minimal.png\" width=\"240\" height=\"240\"/></center>"
   ]
  },
  {
   "cell_type": "markdown",
   "id": "7f528756-7d5d-4d65-af62-f0031f7b466b",
   "metadata": {},
   "source": [
    "where the goal is to find the value of $c$ that minimizes $w = ||u - cv||$. After solving the orthogonal projection problem, this paper demonstrates how the orthogonal projection problem is equivalent to a similar problem called the **minimal surface problem** whose goal is to find a *surface* in some vector space $V$ (an inner product space, to be precise) that is as close as possible to a finite or infinite set of elements $\\{v_1, v_2, \\ldots\\} \\subseteq V$."
   ]
  },
  {
   "cell_type": "markdown",
   "id": "560930a9-8731-4734-b9b7-658d971c258c",
   "metadata": {},
   "source": [
    "## Orthogonal Projections and the Gram-Schmidt Process\n",
    "\n"
   ]
  },
  {
   "cell_type": "markdown",
   "id": "f82e16c6-05ec-45d3-9004-a0c6a5e9c29a",
   "metadata": {
    "tags": []
   },
   "source": [
    "# Finding the surface that is closest to a \"training set\""
   ]
  },
  {
   "cell_type": "markdown",
   "id": "a50fa8cc-3bc3-49b6-afbf-71bfb8cf7485",
   "metadata": {
    "tags": []
   },
   "source": [
    "## Linear Surface\n",
    "For a plane, the problem statement is the following: given a collection of points $\\{d_1, d_2, \\ldots, d_n\\} \\subset \\mathbb{R}^3$, what process might be used to find the values of $a, b,$ and $c$ that generates a plane as close as possible to the data points $\\{d_1, d_2, \\ldots, d_n\\}$. Though we will demonstrante the process of calculating these parameters can be extended to higher dimensions and even to polynomial functions regressing on the data.\n",
    "\n",
    "Given three fixed points in $\\mathbb{R}^3$, it is easy to imagine (and calculate) the plane intersecting all three points. With some algebra, it can be shown rigorously that *any plane is uniquely characterized by three points.* That is, **for any three fixed points, there will always exist one plane intersecting the three points.** A similar characterization exists for any function for a plane.  Assuming there exists a functional relationship between the two arguments of a function and and its planar output, any plane in $\\mathbb{R}^3$ is uniquely characterized by three numbers called the **parameters**. The function for any plane in $\\mathbb{R}^3$ takes the form:\n",
    "$$\n",
    "f(x,y) = ax + by + c\n",
    "$$\n",
    "where $a, b, c \\in \\mathbb{R}$ are the aforementioned **parameters** of $f$.\n",
    "\n",
    "A harder problem is to find the plane that is as close as possible a set of points which are not coplanar (there does not exist a plane intersecting all of them). An even harder problem is to find any surface that is as close as possible to a set of points. Thankfully, by finding a general method for determining the parameters, we will see that the latter problem is not that much harder than the former. Finding the minimimal surface involves a concept known as **orthogonal projection** and an algebraic technique called the **Gram-Schmidt Process**.\n",
    "\n"
   ]
  },
  {
   "cell_type": "code",
   "execution_count": null,
   "id": "789f0a07-f618-42ff-80fc-085bb9fcafd9",
   "metadata": {},
   "outputs": [],
   "source": []
  }
 ],
 "metadata": {
  "kernelspec": {
   "display_name": "Python 3 (ipykernel)",
   "language": "python",
   "name": "python3"
  },
  "language_info": {
   "codemirror_mode": {
    "name": "ipython",
    "version": 3
   },
   "file_extension": ".py",
   "mimetype": "text/x-python",
   "name": "python",
   "nbconvert_exporter": "python",
   "pygments_lexer": "ipython3",
   "version": "3.9.7"
  }
 },
 "nbformat": 4,
 "nbformat_minor": 5
}
