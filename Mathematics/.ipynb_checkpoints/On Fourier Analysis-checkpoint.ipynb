{
 "cells": [
  {
   "cell_type": "markdown",
   "id": "e0c50130",
   "metadata": {},
   "source": [
    "# On Fourier Analysis\n",
    "\n",
    "\n",
    "## Table of Contents\n",
    "\n",
    "\n",
    "\n"
   ]
  },
  {
   "cell_type": "markdown",
   "id": "2b18b9d1",
   "metadata": {},
   "source": [
    "## Introduction\n",
    "\n",
    "The subject of Fourier analysis has it all. As a tool for applications it is used in virtually all areas of science and engineering:\n",
    "\n",
    "1. Electrical engineering: all varieties of signal processing, from communications and circuit design to imaging and optics.\n",
    "2. Machine Learning: providing a richer way of describing signals (audio, images, ECG, etc) that could be used to train a model\n",
    "3. Abstract Algebra: \n",
    "3. Pure Mathematical Analysis: cornerstone of harmonic analysis and the modern formulation of the theory of partial differential equations.\n",
    "\n",
    "The majority of this introduction is adapted (plagerized) from the elegant introduction to Fourier Transforms provided by Brad Osgood at Stanford University.\n"
   ]
  },
  {
   "cell_type": "code",
   "execution_count": 1,
   "id": "7f2b4246",
   "metadata": {},
   "outputs": [
    {
     "data": {
      "image/png": "[encoded data removed]",
      "text/plain": [
       "<Figure size 432x288 with 4 Axes>"
      ]
     },
     "metadata": {
      "needs_background": "light"
     },
     "output_type": "display_data"
    }
   ],
   "source": [
    "import numpy as np\n",
    "import matplotlib.pyplot as plt\n",
    "from matplotlib.widgets import Slider, Button\n",
    "\n",
    "\n",
    "# The parametrized function to be plotted\n",
    "def f(t, amplitude, frequency):\n",
    "    return amplitude * np.sin(2 * np.pi * frequency * t)\n",
    "\n",
    "t = np.linspace(0, 1, 1000)\n",
    "\n",
    "# Define initial parameters\n",
    "init_amplitude = 5\n",
    "init_frequency = 3\n",
    "\n",
    "# Create the figure and the line that we will manipulate\n",
    "fig, ax = plt.subplots()\n",
    "line, = plt.plot(t, f(t, init_amplitude, init_frequency), lw=2)\n",
    "ax.set_xlabel('Time [s]')\n",
    "\n",
    "axcolor = 'lightgoldenrodyellow'\n",
    "ax.margins(x=0)\n",
    "\n",
    "# adjust the main plot to make room for the sliders\n",
    "plt.subplots_adjust(left=0.25, bottom=0.25)\n",
    "\n",
    "# Make a horizontal slider to control the frequency.\n",
    "axfreq = plt.axes([0.25, 0.1, 0.65, 0.03], facecolor=axcolor)\n",
    "freq_slider = Slider(\n",
    "    ax=axfreq,\n",
    "    label='Frequency [Hz]',\n",
    "    valmin=0.1,\n",
    "    valmax=30,\n",
    "    valinit=init_frequency,\n",
    ")\n",
    "\n",
    "# Make a vertically oriented slider to control the amplitude\n",
    "axamp = plt.axes([0.1, 0.25, 0.0225, 0.63], facecolor=axcolor)\n",
    "amp_slider = Slider(\n",
    "    ax=axamp,\n",
    "    label=\"Amplitude\",\n",
    "    valmin=0,\n",
    "    valmax=10,\n",
    "    valinit=init_amplitude,\n",
    "    orientation=\"vertical\"\n",
    ")\n",
    "\n",
    "\n",
    "# The function to be called anytime a slider's value changes\n",
    "def update(val):\n",
    "    line.set_ydata(f(t, amp_slider.val, freq_slider.val))\n",
    "    fig.canvas.draw_idle()\n",
    "\n",
    "\n",
    "# register the update function with each slider\n",
    "freq_slider.on_changed(update)\n",
    "amp_slider.on_changed(update)\n",
    "\n",
    "# Create a `matplotlib.widgets.Button` to reset the sliders to initial values.\n",
    "resetax = plt.axes([0.8, 0.025, 0.1, 0.04])\n",
    "button = Button(resetax, 'Reset', color=axcolor, hovercolor='0.975')\n",
    "\n",
    "\n",
    "def reset(event):\n",
    "    freq_slider.reset()\n",
    "    amp_slider.reset()\n",
    "button.on_clicked(reset)\n",
    "\n",
    "plt.show()"
   ]
  },
  {
   "cell_type": "markdown",
   "id": "aaf3c8fa",
   "metadata": {},
   "source": [
    "### Methods and Tools\n",
    "\n",
    "The ***Fourier Series*** is a method of expressing periodic signals in terms of their frequency components. It can be shown that any periodic signal consists of a fundamental frequency plus its harmonics. The ***Fourier Transform***, on the other hand, applies to non periodic signals, e.g. a delta function. a single pulse (rectangular or otherwise). It is a method of expressing such signals in terms of frequency instead of time. \n",
    "\n",
    "```\n",
    "# Example Python code\n",
    "# f(t) represents the magnitude of a signal, f, for all values of time\n",
    "f = lambda t: sin(t) + 3*sin(2*t) + (-4)*sin(3*t)\n",
    "\n",
    "# f_hat(w) represents a signal's spectrum, f_hat, for all frequencies\n",
    "f_hat = lambda w: fourier_trasform(f, w)\n",
    "```"
   ]
  },
  {
   "cell_type": "markdown",
   "id": "4af4e2d5",
   "metadata": {},
   "source": [
    "### Historical Significance\n",
    "\n",
    "Historically, the methods associated with the Fourier transform developed from employing sines and cosines to model physical phenomena that are periodic, either in time or in space. This is the subject matter of Fourier series.\n",
    "\n",
    "The desire to extend the validity of these so called \"Fourier series expansions\", both for an increasing array of applications and to answer purely mathematical questions, pushed the subject in several directions. On the one hand, it led to a better understanding of approximations, the use of limiting processes and the operation of integration, linear operators, and eigenfunctions and orthogonality. On the other hand, it led to the Fourier transform as a way of representing and analyzing nonperiodic phenomena\n",
    "\n",
    "Here is the Fourier series formatted in $\\LaTeX$.\n",
    "\n",
    "$$\n",
    "f(t) = \\frac{a_0}{2} + \\sum_{k=0}^n a_k \\cos(nt) + b_k \\sin(nt) = \\frac{a_0}{2} + \\sum_{k=-n}^n c_k e^{int}\n",
    "$$"
   ]
  },
  {
   "cell_type": "markdown",
   "id": "9a654c01",
   "metadata": {},
   "source": [
    "### Consequences\n",
    "The following statement is **a maxim that ranks as one of the major secrets of the universe:** through the Fourier transform and its inverse we now understand that *every signal has a spectrum, and the spectrum determines the signal*. \n",
    "\n",
    "A signal (a representation in the ‘time domain’) and its Fourier transform (the spectrum; a representation in the ‘frequency domain’) are equivalent in that one determines the other and one can pass back and forth between the two. The signal appears in different guises in the time domain and in the frequency domain however – the feel is different in the two domains – and this greatly enhances the analysis of both representations. ‘Two representations for the same thing’ will be an almost constant refrain in our work. In signal processing, ‘filtering in the frequency domain’ is an example of this, and a way of life for those who practice it. Further examples of dual representations are the sampling theorem and the Wiener-Khinchine theorem on the spectral power density. In optics, examples are diffraction and interference phenomena, in physics an example is the Heisenberg Uncertainty Principle. In mathematics, celebrated identities in number theory come from Rayleigh’s identity, which, in physics, says that the energy of a signal can be computed either in time or in frequency."
   ]
  },
  {
   "cell_type": "markdown",
   "id": "e9393b41",
   "metadata": {},
   "source": [
    "## References\n",
    "* \\[1\\] Osgood, B. [\"EE 261 The Fourier Transform and its Applications Fall 2007. Course Information and Outline](https://see.stanford.edu/materials/lsoftaee261/Course-info-2007.pdf).\" *Stanford University*, Course Syllabus"
   ]
  },
  {
   "cell_type": "code",
   "execution_count": 1,
   "id": "acfb7717",
   "metadata": {},
   "outputs": [
    {
     "data": {
      "text/plain": [
       "['In',\n",
       " 'Out',\n",
       " '_',\n",
       " '__',\n",
       " '___',\n",
       " '__builtin__',\n",
       " '__builtins__',\n",
       " '__doc__',\n",
       " '__loader__',\n",
       " '__name__',\n",
       " '__package__',\n",
       " '__spec__',\n",
       " '_dh',\n",
       " '_i',\n",
       " '_i1',\n",
       " '_ih',\n",
       " '_ii',\n",
       " '_iii',\n",
       " '_oh',\n",
       " 'exit',\n",
       " 'get_ipython',\n",
       " 'quit']"
      ]
     },
     "execution_count": 1,
     "metadata": {},
     "output_type": "execute_result"
    }
   ],
   "source": [
    "dir()"
   ]
  },
  {
   "cell_type": "markdown",
   "id": "2840a51e",
   "metadata": {},
   "source": [
    "Markdown is essentially plain text\n",
    "\n",
    "except you can **format** things differently.\n",
    "\n",
    "# This is a header 1\n",
    "Here is some text including _italics_\n",
    "\n",
    "## This is a header 2\n",
    "\n"
   ]
  },
  {
   "cell_type": "code",
   "execution_count": null,
   "id": "e515ee70",
   "metadata": {},
   "outputs": [],
   "source": []
  },
  {
   "cell_type": "code",
   "execution_count": null,
   "id": "ce4d3c28",
   "metadata": {},
   "outputs": [],
   "source": []
  }
 ],
 "metadata": {
  "kernelspec": {
   "display_name": "Python 3 (ipykernel)",
   "language": "python",
   "name": "python3"
  },
  "language_info": {
   "codemirror_mode": {
    "name": "ipython",
    "version": 3
   },
   "file_extension": ".py",
   "mimetype": "text/x-python",
   "name": "python",
   "nbconvert_exporter": "python",
   "pygments_lexer": "ipython3",
   "version": "3.9.7"
  }
 },
 "nbformat": 4,
 "nbformat_minor": 5
}
