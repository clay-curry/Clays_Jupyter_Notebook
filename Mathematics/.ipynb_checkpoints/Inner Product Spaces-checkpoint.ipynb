{
 "cells": [
  {
   "cell_type": "markdown",
   "id": "da201930-4543-4136-9183-1fd8f906701e",
   "metadata": {},
   "source": [
    "# Inner Product Spaces\n",
    "### On vector spaces\n",
    "\n",
    "The **vector space** algebra distills the essential properties of $\\mathbb{R}^2$ (the flat plane) and $\\mathbb{R}^3$ (ordinary three-dimensional space) into two operations: addition and scaling. From only these two operations, we derive and generalize the behavior of objects belonging to all kinds of mathematical \"spaces\" (4-dimensional space, n-dimensional space for $n \\in \\mathbb{N}$, harmonic spaces, matrix spaces, group spaces, function spaces between two fixed sets) and here we can study linear maps (vector space morphisms) between these \"spaces,\" all of which are isomorphic to $\\mathbb{R}^n$. By generalizing 3D-space, vector spaces allow us to study:\n",
    "* Linear Subsets (lines and planes in arbitrarily high dimensions)\n",
    "* Bases and Dimension (the minimum number of coordinates required to characterize any element)\n",
    "* Invariant subspaces (subsets restricted to themselves under a linear map).\n",
    "* Cayley Hamilton Theorem (every square matrix over a commutative ring satisfies its own characteristic equation)\n",
    "* Direct sum decompositions of Linear Endomorpisms: $V = G(T, \\lambda_1) \\oplus G(T, \\lambda_2) \\oplus \\cdots $\n",
    "\n",
    "#### What about the essential geometric features of $\\mathbb{R}^2$ and $\\mathbb{R}^3$? \n",
    "The vector space, alone, is not rich enough to generalize conceptions like **distances**, **angles**, and **areas**. We need an additional elementary structure (beyond addition and scaling) to study vector spaces in which geometry makes sense.\n",
    "\n",
    "Recall in $\\mathbb{R}^n$,\n",
    "* the **length** of a vector $v$ is $||v|| = \\sqrt{v \\cdot v}$\n",
    "* the **angle** between $v$ and $w$ is $\\arccos{(\\frac{v \\cdot w}{||v|| ||w||})}$\n",
    "\n",
    "Properties of the dot product in $\\mathbb{R}^{n}$:\n",
    "* Positivity: $v \\cdot v \\geq 0$ for all $v \\in \\mathbb{R}^n$\n",
    "* Definiteness: $v \\cdot v = 0$ iff $v = 0$.\n",
    "* Additivity: $(v_1 + v_2) \\cdot w = (v_1 \\cdot w) + (v_2 \\cdot w)$\n",
    "* Homogeneity: $(\\lambda v) \\cdot w = \\lambda(v \\cdot w)$\n",
    "* Symmetry: $v \\cdot w = w \\cdot v$"
   ]
  },
  {
   "cell_type": "code",
   "execution_count": null,
   "id": "51bffe89-fd62-4520-bc38-b0e560bbd71b",
   "metadata": {},
   "outputs": [],
   "source": []
  }
 ],
 "metadata": {
  "kernelspec": {
   "display_name": "Python 3 (ipykernel)",
   "language": "python",
   "name": "python3"
  },
  "language_info": {
   "codemirror_mode": {
    "name": "ipython",
    "version": 3
   },
   "file_extension": ".py",
   "mimetype": "text/x-python",
   "name": "python",
   "nbconvert_exporter": "python",
   "pygments_lexer": "ipython3",
   "version": "3.9.7"
  }
 },
 "nbformat": 4,
 "nbformat_minor": 5
}
