{
 "cells": [
  {
   "cell_type": "markdown",
   "id": "da201930-4543-4136-9183-1fd8f906701e",
   "metadata": {},
   "source": [
    "# Inner Product Spaces\n",
    "### On vector spaces\n",
    "\n",
    "The **vector space** algebra distills the essential properties of $\\mathbb{R}^n$ into two operations: addition and scaling. From only these two operations, we derive and generalize many features about linear maps over sets that are isomorphic to $\\mathbb{R}^n$:\n",
    "* Linear Subsets (lines and planes in higher dimensions like $\\mathbb{R}^n$)\n",
    "* Bases and Dimension (the minimum number of coordinates required to characterize any element)\n",
    "* Invariant subspaces (subsets restricted to themselves under a linear map).\n",
    "* Cayley Hamilton Theorem (every square matrix over a commutative ring satisfies its own characteristic equation)\n",
    "* Direct sum decompositions of Linear Endomorpisms on subspaces ($V = G(T, \\lambda_1) \\oplus G(T, \\lambda_2) \\oplus \\cdots $)\n",
    "\n",
    "#### What about the essential geometric features of $\\mathbb{R}^2$ and $\\mathbb{R}^3$? \n",
    "The vector space, alone, is not rich enough to generalize conceptions like **distances**, **angles**, and **areas**. We need an additional elementary structure (beyond addition and scaling) to study vector spaces in which geometry makes sense.\n"
   ]
  },
  {
   "cell_type": "code",
   "execution_count": null,
   "id": "51bffe89-fd62-4520-bc38-b0e560bbd71b",
   "metadata": {},
   "outputs": [],
   "source": []
  }
 ],
 "metadata": {
  "kernelspec": {
   "display_name": "Python 3 (ipykernel)",
   "language": "python",
   "name": "python3"
  },
  "language_info": {
   "codemirror_mode": {
    "name": "ipython",
    "version": 3
   },
   "file_extension": ".py",
   "mimetype": "text/x-python",
   "name": "python",
   "nbconvert_exporter": "python",
   "pygments_lexer": "ipython3",
   "version": "3.9.7"
  }
 },
 "nbformat": 4,
 "nbformat_minor": 5
}
