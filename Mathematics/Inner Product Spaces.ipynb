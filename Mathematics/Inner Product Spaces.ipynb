{
 "cells": [
  {
   "cell_type": "markdown",
   "id": "da201930-4543-4136-9183-1fd8f906701e",
   "metadata": {},
   "source": [
    "# Inner Product Spaces\n",
    "### On vector spaces\n",
    "\n",
    "The algebra of **vector spaces** distills the essential algebraic properties of $\\mathbb{R}^2$ (the flat plane) and $\\mathbb{R}^3$ (ordinary three-dimensional space) into two operations: addition and scaling. Defined abstractly, a *vector space* can be any set $W$ of objects (for example, numbers, n-tuples of numbers, matrices, n-tuples of matrices, polynomials, functions) where addition and scalar multiplication are defined to share the same algebraic properties of addition and scalar multiplication in $\\mathbb{R}^n$ (where scalars for $W$ are selected from any (possibly the same) set $\\mathbb{F}$, which must be an algebraic *field*). \n",
    "\n",
    "A fundamental property of any vector space is that any finite linear combination of vectors is again vector of the same space. \n",
    "\n",
    "i.e. if $c_1, c_2, c_3, ..., c_j \\in \\mathbb{F}$ are any scalars, and $w_1, w_2, w_3, ..., w_j \\in W$ are any vectors in $W$ then, $c_1w_1+c_2w_2+...+c_jw_j \\in W$.\n",
    "\n",
    "From only these two operations, addition and scalar multiplication, we enrich our ability to work with objects belonging to all kinds of mathematical \"spaces\" (4-dimensional space, n-dimensional space, differentiable manifolds, matrix spaces, group spaces, function spaces between two fixed sets), and on these spaces we can study homomorphisms (also called linear maps), which tell us that any finite dimensional vector space of dimension $n$ can be mapped isomorphically $\\mathbb{R}^n$. Because any vector space is isomorphic to $\\mathbb{R}^n$, we can literally view these spaces as equal to $\\mathbb{R}^n$ up to relabeling of elements. This property allows us to study several interestring features of many kinds of mathematical objects:\n",
    "* Linear Subsets (lines and planes and higher-dimensional analogues in abstract vector spaces)\n",
    "* Bases and Dimension (the amount of information required to characterize any element in an abstract vector space)\n",
    "* Invariant subspaces (subsets restricted to themselves under a linear map).\n",
    "* Cayley Hamilton Theorem (every square matrix over a commutative ring satisfies its own characteristic equation)\n",
    "* Direct sum decompositions of Linear Endomorpisms: $V = G(T, \\lambda_1) \\oplus G(T, \\lambda_2) \\oplus \\cdots $\n",
    "\n"
   ]
  },
  {
   "cell_type": "markdown",
   "id": "4cdf7276-5c50-4e0a-ac86-76f1735c9d2a",
   "metadata": {},
   "source": [
    "#### What about the essential geometric features of $\\mathbb{R}^2$ and $\\mathbb{R}^3$? \n",
    "The vector space alone, which generalizes the algebraic features of $\\mathbb{R}^n$ is not rich enough to generalize conceptions like **distances**, **angles**, and **areas**. We need an additional elementary structure (beyond addition and scaling) to study vector spaces in which geometry makes sense.\n",
    "\n",
    "Recall in $\\mathbb{R}^n$,\n",
    "* the **length** of a vector $v$ is $||v|| = \\sqrt{v \\cdot v}$\n",
    "* the **angle** between $v$ and $w$ is $\\arccos{(\\frac{v \\cdot w}{||v|| ||w||})}$\n",
    "\n",
    "Properties of the dot product in $\\mathbb{R}^{n}$:\n",
    "* Positivity: $v \\cdot v \\geq 0$ for all $v \\in \\mathbb{R}^n$\n",
    "* Definiteness: $v \\cdot v = 0$ iff $v = 0$.\n",
    "* Additivity: $(v_1 + v_2) \\cdot w = (v_1 \\cdot w) + (v_2 \\cdot w)$\n",
    "* Homogeneity: $(\\lambda v) \\cdot w = \\lambda(v \\cdot w)$\n",
    "* Symmetry: $v \\cdot w = w \\cdot v$"
   ]
  },
  {
   "cell_type": "markdown",
   "id": "60490bcc-874e-4813-8649-44f71d608a77",
   "metadata": {},
   "source": []
  }
 ],
 "metadata": {
  "kernelspec": {
   "display_name": "Python 3 (ipykernel)",
   "language": "python",
   "name": "python3"
  },
  "language_info": {
   "codemirror_mode": {
    "name": "ipython",
    "version": 3
   },
   "file_extension": ".py",
   "mimetype": "text/x-python",
   "name": "python",
   "nbconvert_exporter": "python",
   "pygments_lexer": "ipython3",
   "version": "3.9.7"
  }
 },
 "nbformat": 4,
 "nbformat_minor": 5
}
