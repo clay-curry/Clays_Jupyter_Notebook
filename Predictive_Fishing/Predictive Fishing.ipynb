{
 "cells": [
  {
   "cell_type": "markdown",
   "id": "332ee1b9-63e4-4df4-b09e-1c459f9f1f86",
   "metadata": {
    "jp-MarkdownHeadingCollapsed": true,
    "tags": []
   },
   "source": [
    "# Predictive Fishing System\n",
    "#### Contents   \n",
    "- <a id='intro'>Introduction</a>\n",
    "- <a id='data-aquisition'>Data Aquisition</a>\n",
    "\n"
   ]
  },
  {
   "cell_type": "markdown",
   "id": "be2bcf8f-3672-4ddf-b182-05a891c7188b",
   "metadata": {
    "tags": []
   },
   "source": [
    "# Introduction[](#intro)\n",
    "#### What this is\n",
    "It's on my mind almost every time I go fishing, did I pick the right spot and am I using the right bait? The predictive fishing system is recommendation engine will use cutting edge data science techniques to suggest where to fish and bait. Additionally, users can interact with a dashboard where they can view analytics for all known fishing spots or run custom filters to test theories.\n",
    "\n",
    "Beyond suggesting where to fish and lure/bait suggestions, this system will use cutting edge data science methods to predict the following information:\n",
    "* **expected catch rate by species given lure/bait selection and spot** \n",
    "* **expected catch rate by species given electronic fish-finder activity**\n",
    "\n",
    "These expectations will be given along with confidence intervals.\n",
    "\n"
   ]
  },
  {
   "cell_type": "markdown",
   "id": "a2ba4b43-eaca-46f4-b823-a086a340366e",
   "metadata": {},
   "source": [
    "# Data Acquisition[](#data-aquisition)\n",
    "\n",
    "### Summary\n",
    "To make data collection faster and allow fishermen to maximize their catching time, the majority of fishing predictors will be collected electronically from public databases. \n",
    "\n",
    "The system depends on rigorous data collected by individual fishermen in Google Sheets as follow.\n",
    "\n",
    "<center><img src=\"img/fishing_db.png\" width=\"600\"/></center>\n",
    "\n",
    "### Collection Instructions\n",
    "However, the system will require data points are comprehensive and subject to scale for additional predictors. Some of these data attributes provided by weather databases and the army corps of engineers. The system will consider the following data points reported by fishermen,\n",
    "* fish species (inputted manually)\n",
    "* fish size (inputted manually)\n",
    "* baits/lures (inputted manually)\n",
    "\n",
    "The following predictors will be collected electronically,\n",
    "\n",
    "* date (determined by date of input)\n",
    "* time of catch (determined by date of input)\n",
    "* duration at spot (fish-finder required) \n",
    "* nearby marine life activity (fish-finder required)\n",
    "* coordinates (fish-finder required) or spot\n",
    "* cloud coverage (determined using Mesonet meterological database)\n",
    "* barometric pressure (determined using Mesonet meterological database)\n",
    "* air temp (determined using Mesonet meterological database)\n",
    "* wind (determined electronically)\n",
    "* moon phase (determineed using lunar phase calendar)\n",
    "* wave level (determined using Army Corps of Engineers database)\n",
    "* water temp (determined using Army Corps of Engineers database)\n",
    "* lake level (Army Corps of Engineers database)\n",
    "* amount of rainfall in last 24 hours (determined using Mesonet meterological database)\n",
    "* amount of rainfall in last 48 hours (determined using Mesonet meterological database)\n",
    "* amount of rainfall in last 7 days (determined using Mesonet meterological database)\n",
    "* amount of rainfall in last 14 days (determined using Mesonet meterological database)\n",
    "* amount of rainfall in last 30 days (determined using Mesonet meterological database)\n",
    "* amount of rainfall in last 60 days (determined using Mesonet meterological database)\n",
    "* amount of rainfall in last 90 days (determined using Mesonet meterological database)\n",
    "* average temperature in last 24 hours (determined using Mesonet meterological database)\n",
    "* average temperature in last 48 hours (determined using Mesonet meterological database)\n",
    "* average temperature in last 7 days (determined using Mesonet meterological database)\n",
    "* average temperature in last 14 days (determined using Mesonet meterological database)\n",
    "* average temperature in last 30 days (determined using Mesonet meterological database)\n",
    "* average temperature in last 60 days (determined using Mesonet meterological database)\n",
    "* average temperature in last 90 days (determined using Mesonet meterological database)\n"
   ]
  },
  {
   "cell_type": "code",
   "execution_count": null,
   "id": "c704f590-e7e9-40e7-9faa-178aa5fea61b",
   "metadata": {},
   "outputs": [],
   "source": []
  }
 ],
 "metadata": {
  "kernelspec": {
   "display_name": "Python 3 (ipykernel)",
   "language": "python",
   "name": "python3"
  },
  "language_info": {
   "codemirror_mode": {
    "name": "ipython",
    "version": 3
   },
   "file_extension": ".py",
   "mimetype": "text/x-python",
   "name": "python",
   "nbconvert_exporter": "python",
   "pygments_lexer": "ipython3",
   "version": "3.9.7"
  }
 },
 "nbformat": 4,
 "nbformat_minor": 5
}
