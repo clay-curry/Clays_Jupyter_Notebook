{
 "cells": [
  {
   "cell_type": "markdown",
   "id": "7d386157",
   "metadata": {},
   "source": [
    "# Linear Models for Regression\n",
    "## The Meaning, Purpose, Motivation\n",
    "\n",
    "In spite of the availability of highly innovative tools in statistics, the main tool of the applied statistician remains the linear model. The linear model involves the *simplest and seemingly most restrictive statistical properties*: **independence**, **normality**, **constancy of variance**, and **linearity**. However, the model and the statistical methods associated with it are surprisingly versatile and robust. More importantly, mastery of the linear model is a prerequisite to work with advanced statistical tools because most advanced tools are generalizations of the linear model. The linear model is thus central to the training of any statistician, applied or theoretical.\n",
    "\n",
    "In some situations, Linear regression is a useful tool for predicting a quantitative response directly. In its most general usage, linear regression extracts probabilistic information to answer certain questions:\n",
    "1. Is there a relationship between regressors and a regressand? (yes or no, probabilistically)\n",
    "2. Assuming that there is a relationship, given a certain set of regressors, how certain can we predict regressands based on the regressors (is our guess only slightly better than random chance)?\n",
    "3. Do all the regressors contribute equal information or only a subset?\n",
    "4. Are any independent variables *redundant* (do they have a somewhat linear relationship)?\n",
    "5. How accurately can we assess the effect of each regressor on a single regressand?\n",
    "6. How confident are we about the accuracy of future predictions?\n",
    "7. Is the relationship approximately linear (or affine)? (If not, can we transform the predictor or response so that linear regression can be used?)\n",
    "8. Do we see an interaction effect between regressors and regressands (should we manipulate one regressor or several to maximize desired response)?"
   ]
  },
  {
   "cell_type": "markdown",
   "id": "031849fd",
   "metadata": {},
   "source": [
    "## Linear Basis Function Models\n",
    "\n",
    "## The Bias- Variance Decompostion\n",
    "\n",
    "## Bayesian Linear Regression\n",
    "\n",
    "## Bayesian Model Comparison\n",
    "\n",
    "## The Evidence Approximation\n",
    "\n",
    "## Limitations of Fixed Basis Functions"
   ]
  },
  {
   "cell_type": "code",
   "execution_count": null,
   "id": "6e129b9f",
   "metadata": {},
   "outputs": [],
   "source": []
  }
 ],
 "metadata": {
  "kernelspec": {
   "display_name": "Python 3 (ipykernel)",
   "language": "python",
   "name": "python3"
  },
  "language_info": {
   "codemirror_mode": {
    "name": "ipython",
    "version": 3
   },
   "file_extension": ".py",
   "mimetype": "text/x-python",
   "name": "python",
   "nbconvert_exporter": "python",
   "pygments_lexer": "ipython3",
   "version": "3.8.13"
  }
 },
 "nbformat": 4,
 "nbformat_minor": 5
}
