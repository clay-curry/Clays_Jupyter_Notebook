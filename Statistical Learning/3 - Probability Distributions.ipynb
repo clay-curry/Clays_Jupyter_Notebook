{
 "cells": [
  {
   "cell_type": "markdown",
   "id": "33063a8b-3422-4db3-864a-5fc414de774d",
   "metadata": {},
   "source": [
    "# Probability Distributions"
   ]
  },
  {
   "cell_type": "markdown",
   "id": "91afd83a-cc7c-48d2-aa0d-ddc18c1233d0",
   "metadata": {},
   "source": [
    "## Binary Variables\n",
    "\n",
    "## Multinomial Distributions\n",
    "\n",
    "## The Gaussian Distribution\n",
    "\n",
    "## The Exponential Distributions\n",
    "\n",
    "## Nonparametric Methods\n"
   ]
  },
  {
   "cell_type": "code",
   "execution_count": null,
   "id": "294bb7ef-299d-48ef-a1cd-54b414a92c3e",
   "metadata": {},
   "outputs": [],
   "source": []
  }
 ],
 "metadata": {
  "kernelspec": {
   "display_name": "Python 3 (ipykernel)",
   "language": "python",
   "name": "python3"
  },
  "language_info": {
   "codemirror_mode": {
    "name": "ipython",
    "version": 3
   },
   "file_extension": ".py",
   "mimetype": "text/x-python",
   "name": "python",
   "nbconvert_exporter": "python",
   "pygments_lexer": "ipython3",
   "version": "3.9.7"
  }
 },
 "nbformat": 4,
 "nbformat_minor": 5
}
