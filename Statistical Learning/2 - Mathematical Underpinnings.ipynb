{
 "cells": [
  {
   "cell_type": "markdown",
   "id": "a74f3738-ea2c-414a-8cd0-110e1f0c135d",
   "metadata": {},
   "source": [
    "# Mathematical Underpinnings of Machine Learning\n"
   ]
  },
  {
   "cell_type": "markdown",
   "id": "129435e1-a6df-4a3b-8e81-76313d8fe313",
   "metadata": {},
   "source": [
    "\n",
    "## Probability Theory\n",
    "\n",
    "## Model Selection\n",
    "\n",
    "## The Curse of Dimensionality\n",
    "\n",
    "## Decision Theory\n",
    "\n",
    "## Information Theory"
   ]
  },
  {
   "cell_type": "code",
   "execution_count": null,
   "id": "a3b02c2b-b913-4ac5-8112-b0bb1bc31222",
   "metadata": {},
   "outputs": [],
   "source": []
  }
 ],
 "metadata": {
  "kernelspec": {
   "display_name": "Python 3 (ipykernel)",
   "language": "python",
   "name": "python3"
  },
  "language_info": {
   "codemirror_mode": {
    "name": "ipython",
    "version": 3
   },
   "file_extension": ".py",
   "mimetype": "text/x-python",
   "name": "python",
   "nbconvert_exporter": "python",
   "pygments_lexer": "ipython3",
   "version": "3.8.12"
  }
 },
 "nbformat": 4,
 "nbformat_minor": 5
}
