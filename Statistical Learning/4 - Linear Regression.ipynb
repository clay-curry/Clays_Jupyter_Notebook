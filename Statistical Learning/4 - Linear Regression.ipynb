{
 "cells": [
  {
   "cell_type": "markdown",
   "id": "a3f24555-82ed-47ec-9107-e18c7a1bd330",
   "metadata": {},
   "source": [
    "# Linear Models for Regression"
   ]
  },
  {
   "cell_type": "markdown",
   "id": "d9aef963-1a96-4e5e-8da2-1b169e36ce3f",
   "metadata": {},
   "source": [
    "## Linear Basis Function Models\n",
    "\n",
    "## The Bias- Variance Decompostion\n",
    "\n",
    "## Bayesian Linear Regression\n",
    "\n",
    "## Bayesian Model Comparison\n",
    "\n",
    "## The Evidence Approximation\n",
    "\n",
    "## Limitations of Fixed Basis Functions"
   ]
  },
  {
   "cell_type": "code",
   "execution_count": null,
   "id": "98cf26ce-b6f6-4a5e-ad2b-4925bebc8b12",
   "metadata": {},
   "outputs": [],
   "source": []
  }
 ],
 "metadata": {
  "kernelspec": {
   "display_name": "Python 3 (ipykernel)",
   "language": "python",
   "name": "python3"
  },
  "language_info": {
   "codemirror_mode": {
    "name": "ipython",
    "version": 3
   },
   "file_extension": ".py",
   "mimetype": "text/x-python",
   "name": "python",
   "nbconvert_exporter": "python",
   "pygments_lexer": "ipython3",
   "version": "3.9.7"
  }
 },
 "nbformat": 4,
 "nbformat_minor": 5
}
