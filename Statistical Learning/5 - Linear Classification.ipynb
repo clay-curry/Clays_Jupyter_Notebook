{
 "cells": [
  {
   "cell_type": "markdown",
   "id": "e246dfcc-372c-4d81-be86-310e68e7c973",
   "metadata": {},
   "source": [
    "# Linear Models for Classification"
   ]
  },
  {
   "cell_type": "code",
   "execution_count": null,
   "id": "591d9192-db6d-459c-93d7-478a8a09c1cd",
   "metadata": {},
   "outputs": [],
   "source": []
  }
 ],
 "metadata": {
  "kernelspec": {
   "display_name": "Python 3 (ipykernel)",
   "language": "python",
   "name": "python3"
  },
  "language_info": {
   "codemirror_mode": {
    "name": "ipython",
    "version": 3
   },
   "file_extension": ".py",
   "mimetype": "text/x-python",
   "name": "python",
   "nbconvert_exporter": "python",
   "pygments_lexer": "ipython3",
   "version": "3.8.12"
  }
 },
 "nbformat": 4,
 "nbformat_minor": 5
}
