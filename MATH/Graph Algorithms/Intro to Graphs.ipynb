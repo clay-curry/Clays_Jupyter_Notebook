{
 "cells": [
  {
   "cell_type": "markdown",
   "id": "d1e472dd-d697-461b-9797-0fbaf68ec417",
   "metadata": {},
   "source": [
    "# Introduction to Graphs\n",
    "\n",
    "Graph problems pervade computer science, and algorithms for working with them are fundamental to the field. Hundreds of interesting computational problems are couched in terms of graphs. These notes will touch on a few of the more significant problems involving graphs.\n",
    "\n",
    "The **Breadth-first Search** algorithm is one of the simplest algorithms for searching a graph and the archetype for many important graph algorithms. Prim's minimum spanning tree algorithm and Dijkstra's single-source shortest-path algorithm use ideas similar to those in breadth-first search.\n",
    "\n",
    "The **Depth-first Search** algorithm explores edges out of the most recently discovered vertex $v$ that still has unexplored edges leaving it. This algorithm will show up as a subroutine of many important algorithms in graph theory."
   ]
  },
  {
   "cell_type": "code",
   "execution_count": 45,
   "id": "b86b0f24-371d-4c55-987c-a0d4a36a646d",
   "metadata": {},
   "outputs": [
    {
     "data": {
      "image/png": "[encoded data removed]",
      "text/plain": [
       "<Figure size 432x288 with 1 Axes>"
      ]
     },
     "metadata": {},
     "output_type": "display_data"
    }
   ],
   "source": [
    "import networkx as nx\n",
    "import numpy as np\n",
    "\n",
    "G = nx.from_dict_of_lists({1: [2, 5], 2: [1, 5, 3, 4], 3: [2, 4], 4: [2, 3, 5], 5: [1, 2, 4]})\n",
    "nx.draw_spectral(G, node_color='red', edge_color='black', with_labels=True, node_size=2000)"
   ]
  },
  {
   "cell_type": "markdown",
   "id": "4e831123-81fb-4c71-922a-910b5af1f9e9",
   "metadata": {},
   "source": [
    "## Representations of graphs\n",
    "\n",
    "We can choose between two standard ways to represent a graph $G$\n",
    "$$\n",
    "G = (V, E)\n",
    "$$\n",
    "\n",
    "The **adjacency-list representation** of a graph consist of an array, `Adj` of $|V|$ lists, one for each vertex in $V$."
   ]
  },
  {
   "cell_type": "code",
   "execution_count": 14,
   "id": "c0bae944-e6e4-4cc5-bced-9252a5b2d12f",
   "metadata": {},
   "outputs": [
    {
     "data": {
      "text/plain": [
       "{1: [2, 5], 2: [1, 5, 3, 4], 3: [2, 4], 4: [2, 3, 5], 5: [1, 2, 4]}"
      ]
     },
     "execution_count": 14,
     "metadata": {},
     "output_type": "execute_result"
    }
   ],
   "source": [
    "nx.to_dict_of_lists(G)"
   ]
  },
  {
   "cell_type": "markdown",
   "id": "d32cf800-e2c7-497e-b1f9-7a420134486e",
   "metadata": {},
   "source": [
    "The **adjacency-matrix representation** of a graph consist of a matrix $|V| \\times |V|$ matrix $A$ where each $A_{ij}$ assumes the value of $1$ if there exists an edge from vertex $i$ to vertex $j$ and $A_{ij}$ assumes the value of $0$ if there does not exist an edge from vertex $i$ to vertex $j$."
   ]
  },
  {
   "cell_type": "code",
   "execution_count": 13,
   "id": "1ef39599-1513-48ad-a875-2c61bc41cd7e",
   "metadata": {},
   "outputs": [
    {
     "data": {
      "text/plain": [
       "matrix([[0., 1., 0., 0., 1.],\n",
       "        [1., 0., 1., 1., 1.],\n",
       "        [0., 1., 0., 1., 0.],\n",
       "        [0., 1., 1., 0., 1.],\n",
       "        [1., 1., 0., 1., 0.]])"
      ]
     },
     "execution_count": 13,
     "metadata": {},
     "output_type": "execute_result"
    }
   ],
   "source": [
    "nx.to_numpy_matrix(G)"
   ]
  },
  {
   "cell_type": "markdown",
   "id": "c5d689fa-b44e-4b19-81cb-3b6f4c9d604d",
   "metadata": {},
   "source": [
    "We can readily adapt adjacency lists to represent **weighted graphs**, that is, graphs for which each edge has an associated **weight**, typically given by a weight function $w : E \\to \\mathbb{R}$. Most algorithms that operate on graphs need to maintain attributes for vertices and/or edges. We indicate these attribtues using our usual notation, such as $v.d$ for an attribute $d$ of vertex $v$. Similarly, attributes of edges are indicated by $(u,v).f$ for the attribute $f$ of the edge connecting $u$ to $v$."
   ]
  },
  {
   "cell_type": "markdown",
   "id": "5499da73-e299-4893-9010-c5d42f456293",
   "metadata": {},
   "source": [
    "## Breadth-first Search\n",
    "\n",
    "Given some $G = (V, E)$ and a distinguished **source** $s \\in V$, Breadth-first Search systematically explores the edges of $G$ to \"discover\" every vertex that is reachable from $s$. It computes the smallest number of edges (distance) from $s$ to any node reachable from $s$ and produces a \"breadth-first tree\" with root $s$ that contains all reachable vertices. For any vertex $v$ reachable from $s$, the simple path in this tree from $s$ to $v$ cooresponds to the \"shortest path\" from $s$ to $v$ in $G$.\n",
    "\n",
    "`BFS` constructs a breadth-tree, initially with only its root $s$. Whenever the search discovers the white vertex $v$ in the course of scanning the adjacency list of analready discovered vertex $u$, the vertex $(u, v)$ is added to the breadth-tree and we say that $u$ is the **predecessor** or **parent** of $v$. The following breadth-first-search procedure `BFS` assumes that the input graph $G$ is represented using adjacency lists.\n",
    "```\n",
    "BFS(G, s):\n",
    "    for vertex in G.V - {s}:\n",
    "        vertex.color = \"white\"\n",
    "        vertex.distance = -1\n",
    "        vertex.parent = None\n",
    "    s.color = \"gray\"\n",
    "    s.distance = 0\n",
    "    s.parent = None\n",
    "    Q = []\n",
    "    Q.append(s)\n",
    "    while Q != []:\n",
    "        u = Q.pop(0)\n",
    "        for vertex in u.Adj:\n",
    "            if vertex.color == \"white\":\n",
    "                vertex.color = \"gray\"\n",
    "                vertex.distance = u.distance + 1\n",
    "                vertex.parent = u\n",
    "                Q.append(vertex)\n",
    "        u.color = \"black\"\n",
    "\n",
    "```"
   ]
  },
  {
   "cell_type": "code",
   "execution_count": 44,
   "id": "4bebdfa9-ea2d-4b22-b96e-d66bd1ae1e22",
   "metadata": {},
   "outputs": [],
   "source": [
    "set_color = lambda G, n, col: nx.set_node_attributes(G, {n: col}, name=\"color\")\n",
    "set_distance = lambda G, n, dis: nx.set_node_attributes(G, {n: dis}, name=\"distance\")\n",
    "set_parent = lambda G, n, par: nx.set_node_attributes(G, {n: par}, name=\"parent\")\n",
    "\n",
    "def BFS(G, s):\n",
    "    for vertex in nx.nodes(G):\n",
    "        set_color(G, vertex, \"white\")\n",
    "        set_distance(G, vertex, -1)\n",
    "        set_parent(G, vertex, -1)\n",
    "    set_color(G, s, \"gray\")\n",
    "    set_distance(G, s, -1)\n",
    "    set_parent(G, s, -1)\n",
    "    Q = []\n",
    "    Q.append(s)\n",
    "    while Q != []:\n",
    "        u = Q.pop(0)\n",
    "        parent_distance = nx.get_node_attributes(G, \"distance\")[u]\n",
    "        for vertex in nx.all_neighbors(G, u):\n",
    "            neighbor_color = nx.get_node_attributes(G, \"color\")[vertex]\n",
    "            if neighbor_color == \"white\":\n",
    "                set_color(G, vertex, \"gray\")\n",
    "                set_distance(G, vertex, parent_distance+1)\n",
    "                set_parent(G, vertex, u)\n",
    "                Q.append(vertex)\n",
    "        set_color(G, u, \"black\")\n",
    "        \n",
    "BFS(G, 1)"
   ]
  },
  {
   "cell_type": "markdown",
   "id": "99952be2-67e5-4ad0-a87b-c689ba7103c2",
   "metadata": {},
   "source": [
    "The following procedure prints out the vertices on a shortest path from $s$ to $v$, assuming that `BFS` has already computed a breadth-first search."
   ]
  },
  {
   "cell_type": "code",
   "execution_count": 42,
   "id": "2deac1d7-e701-4987-b2ac-68fab3bb8009",
   "metadata": {},
   "outputs": [
    {
     "name": "stdout",
     "output_type": "stream",
     "text": [
      "1\n",
      "5\n"
     ]
    }
   ],
   "source": [
    "def Print_Path(G, s, v):\n",
    "    if v == s: \n",
    "        print(s)\n",
    "    elif nx.get_node_attributes(G, \"parent\")[v] == -1:\n",
    "        print(f\"no path from {s} to {v} exists\")\n",
    "    else:\n",
    "        Print_Path(G, s, nx.get_node_attributes(G, \"parent\")[v])\n",
    "        print(v)\n",
    "        \n",
    "Print_Path(G, 1, 5)"
   ]
  },
  {
   "cell_type": "markdown",
   "id": "b708d440-856a-4d69-98c6-7879b668a1e0",
   "metadata": {},
   "source": [
    "## Depth-first Search"
   ]
  },
  {
   "cell_type": "markdown",
   "id": "d3c7a2a3-b9cc-4d54-a1e8-d76f34ab0782",
   "metadata": {},
   "source": [
    "1. Whenever depth-first search discovers a vertex $v$ during a scan of the adjacency list of an already discovered vetex $u$, it records this event by setting $v$'s predecessor to be $u$.\n",
    "2. Each vertex is initially white, colored gray when discovered, and blackened when its adjacency list has been examined completely.\n",
    "3. Each vertex is time-stamped twice: first recording when $v$ is dicovered, and the second time stamp records when the search finishes examining $v$ 's adjacency list.\n",
    "\n",
    "```\n",
    "DFS(G)\n",
    "    for each vertex in G.V\n",
    "        vertex.color = white\n",
    "        vertex.parent = None\n",
    "    time = 0\n",
    "    for each vertex in G.V\n",
    "        if vertex.color == white\n",
    "            DFS-Visit(G,vertex)\n",
    "```\n",
    "\n",
    "and\n",
    "\n",
    "```\n",
    "DFS-Visit(G, v)\n",
    "    time = time + 1\n",
    "    v.discovered = time\n",
    "    v.color = gray\n",
    "    for each vertex in G.adj[v]\n",
    "        if vertex.color == white\n",
    "            vertex.parent = v\n",
    "            DFS-Visit(G,vertex)\n",
    "    v.color = black\n",
    "    time = time + 1\n",
    "    v.finish = time\n",
    "```"
   ]
  },
  {
   "cell_type": "markdown",
   "id": "ea7139bf-1587-44a9-8f6e-0d7b5eed4dd0",
   "metadata": {},
   "source": []
  },
  {
   "cell_type": "code",
   "execution_count": null,
   "id": "48d7382e-7715-4a02-93b2-6ae982f327bb",
   "metadata": {},
   "outputs": [],
   "source": [
    "G = nx.Graph()"
   ]
  }
 ],
 "metadata": {
  "kernelspec": {
   "display_name": "Python 3 (ipykernel)",
   "language": "python",
   "name": "python3"
  },
  "language_info": {
   "codemirror_mode": {
    "name": "ipython",
    "version": 3
   },
   "file_extension": ".py",
   "mimetype": "text/x-python",
   "name": "python",
   "nbconvert_exporter": "python",
   "pygments_lexer": "ipython3",
   "version": "3.9.7"
  }
 },
 "nbformat": 4,
 "nbformat_minor": 5
}
