{
 "cells": [
  {
   "cell_type": "markdown",
   "id": "d31bcb04",
   "metadata": {},
   "source": [
    "# On Fourier Analysis\n",
    "\n",
    "The subject of Fourier analysis has it all. As a tool for applications it is used in virtually all areas of science and engineering:\n",
    "\n",
    "1. Electrical engineering: all varieties of signal processing, from communications and circuit design to imaging and optics.\n",
    "2. Mathematics: cornerstone of harmonic analysis, and the uses range from number theory to the modern formulation of the theory of partial differential equations.\n",
    "3. Machine Learning: provides a richer way of describing signals (audio, images, ECG, etc) that could be used to train a model\n",
    "4. etc.\n",
    "\n",
    "### Methods and Tools\n",
    "\n",
    "The ***Fourier Series*** is a method of expressing periodic signals in terms of their frequency components. It can be shown that any periodic signal consists of a fundamental frequency plus its harmonics. The ***Fourier Transform***, on the other hand, applies to non periodic signals, e.g. a delta function. a single pulse (rectangular or otherwise). It is a method of expressing such signals in terms of frequency instead of time. \n",
    "\n",
    "```\n",
    "# Example Python code\n",
    "# f(t) represents the magnitude of a signal, f, for all values of time\n",
    "f = lambda t: sin(t) + 3*sin(2*t) + (-4)*sin(3*t)\n",
    "\n",
    "# f_hat(w) represents a signal's spectrum, f_hat, for all frequencies\n",
    "f_hat = lambda w: fourier_trasform(f, w)\n",
    "```\n",
    "\n",
    "### Historical Significance\n",
    "\n",
    "Historically, the methods associated with the Fourier transform developed from employing sines and cosines to model physical phenomena that are periodic, either in time or in space. This is the subject matter of Fourier series. The desire to extend the validity of these expansions, both for an increasing array of applications and to answer purely mathematical questions, pushed the subject\n",
    "in several directions. On the one hand, it led to a better understanding of approximations, the use of limiting processes and the operation of integration, linear operators, and eigenfunctions and orthogonality. On the other hand, it led to the Fourier transform as a way of representing and analyzing nonperiodic phenomena\n",
    "\n",
    "and a here is the Discrete Fourier series formatted in $\\LaTeX$\n",
    "\n",
    "$$\n",
    "\\hat f[\\omega] = \\frac{1}{T} \\sum_k \n",
    "$$\n",
    "\n",
    "## References\n",
    "* \\[1\\] Osgood, B. [\"EE 261 The Fourier Transform and its Applications Fall 2007. Course Information and Outline](https://see.stanford.edu/materials/lsoftaee261/Course-info-2007.pdf).\" *Stanford University*, Course Syllabus"
   ]
  },
  {
   "cell_type": "raw",
   "id": "f87b3b73",
   "metadata": {},
   "source": [
    "Jupy"
   ]
  },
  {
   "cell_type": "code",
   "execution_count": 1,
   "id": "d4c53b01",
   "metadata": {},
   "outputs": [
    {
     "data": {
      "text/plain": [
       "['In',\n",
       " 'Out',\n",
       " '_',\n",
       " '__',\n",
       " '___',\n",
       " '__builtin__',\n",
       " '__builtins__',\n",
       " '__doc__',\n",
       " '__loader__',\n",
       " '__name__',\n",
       " '__package__',\n",
       " '__spec__',\n",
       " '_dh',\n",
       " '_i',\n",
       " '_i1',\n",
       " '_ih',\n",
       " '_ii',\n",
       " '_iii',\n",
       " '_oh',\n",
       " 'exit',\n",
       " 'get_ipython',\n",
       " 'quit']"
      ]
     },
     "execution_count": 1,
     "metadata": {},
     "output_type": "execute_result"
    }
   ],
   "source": [
    "dir()"
   ]
  },
  {
   "cell_type": "markdown",
   "id": "aa0be02f",
   "metadata": {},
   "source": [
    "Markdown is essentially plain text\n",
    "\n",
    "except you can **format** things differently.\n",
    "\n",
    "# This is a header 1\n",
    "Here is some text including _italics_\n",
    "\n",
    "## This is a header 2\n",
    "\n"
   ]
  },
  {
   "cell_type": "code",
   "execution_count": null,
   "id": "1cb998b5",
   "metadata": {},
   "outputs": [],
   "source": []
  },
  {
   "cell_type": "code",
   "execution_count": null,
   "id": "56fd832f",
   "metadata": {},
   "outputs": [],
   "source": []
  }
 ],
 "metadata": {
  "kernelspec": {
   "display_name": "Python 3 (ipykernel)",
   "language": "python",
   "name": "python3"
  },
  "language_info": {
   "codemirror_mode": {
    "name": "ipython",
    "version": 3
   },
   "file_extension": ".py",
   "mimetype": "text/x-python",
   "name": "python",
   "nbconvert_exporter": "python",
   "pygments_lexer": "ipython3",
   "version": "3.9.7"
  }
 },
 "nbformat": 4,
 "nbformat_minor": 5
}
